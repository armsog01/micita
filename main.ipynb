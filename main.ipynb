{
 "cells": [
  {
   "cell_type": "code",
   "execution_count": null,
   "id": "telegram-sita-check",
   "metadata": {},
   "outputs": [],
   "source": [
    "import requests\n",
    "import time\n",
    "\n",
    "# 🔐 DEINE TELEGRAM-DATEN\n",
    "TELEGRAM_TOKEN = \"8074383913:AAHTupDCNL4sePVhu7OXyn2SN_pLJ0KYYJY\"\n",
    "CHAT_ID = \"1024832515\"\n",
    "\n",
    "def send_telegram_message(text):\n",
    "    url = f\"https://api.telegram.org/bot{TELEGRAM_TOKEN}/sendMessage\"\n",
    "    data = {\"chat_id\": CHAT_ID, \"text\": text}\n",
    "    response = requests.post(url, data=data)\n",
    "    return response.ok\n",
    "\n",
    "def check_appointment():\n",
    "    try:\n",
    "        url = \"https://icp.administracionelectronica.gob.es/icpplus/index.html\"\n",
    "        response = requests.get(url, timeout=10)\n",
    "        if \"no hay citas disponibles\" not in response.text.lower():\n",
    "            send_telegram_message(\"🚨 Möglicherweise ist ein SITA-Termin verfügbar! Schnell prüfen: https://icp.administracionelectronica.gob.es/icpplus/index.html\")\n",
    "        else:\n",
    "            print(\"❌ Noch kein Termin verfügbar.\")\n",
    "    except Exception as e:\n",
    "        print(\"Fehler beim Prüfen:\", e)\n",
    "\n",
    "# Nur 1x prüfen (manuell), später kann man das automatisch regelmäßig machen\n",
    "check_appointment()"
   ]
  }
 ],
 "metadata": {
  "kernelspec": {
   "display_name": "Python 3",
   "language": "python",
   "name": "python3"
  },
  "language_info": {
   "name": "python",
   "version": ""
  }
 },
 "nbformat": 4,
 "nbformat_minor": 5
}
